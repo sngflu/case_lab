{
 "cells": [
  {
   "cell_type": "markdown",
   "metadata": {},
   "source": [
    "# YOLO11"
   ]
  },
  {
   "cell_type": "markdown",
   "metadata": {},
   "source": [
    "## установка и импорт необходимых зависимостей "
   ]
  },
  {
   "cell_type": "code",
   "execution_count": null,
   "metadata": {
    "_cell_guid": "5e9d622d-a1c5-4919-84e3-e529d6cd7930",
    "_uuid": "5bdd596c-9dc5-4948-b6e5-0ba31f87b1a8",
    "collapsed": false,
    "execution": {
     "iopub.execute_input": "2024-11-24T20:47:36.043607Z",
     "iopub.status.busy": "2024-11-24T20:47:36.042925Z",
     "iopub.status.idle": "2024-11-24T20:47:54.607382Z",
     "shell.execute_reply": "2024-11-24T20:47:54.606160Z",
     "shell.execute_reply.started": "2024-11-24T20:47:36.043570Z"
    },
    "jupyter": {
     "outputs_hidden": false
    },
    "trusted": true
   },
   "outputs": [],
   "source": [
    "!pip install ultralytics --q\n",
    "!pip install albumentations==1.4.14 --q\n",
    "!pip install -U ipywidgets --q"
   ]
  },
  {
   "cell_type": "code",
   "execution_count": null,
   "metadata": {
    "execution": {
     "iopub.execute_input": "2024-11-24T20:47:54.609485Z",
     "iopub.status.busy": "2024-11-24T20:47:54.609150Z",
     "iopub.status.idle": "2024-11-24T20:48:41.645385Z",
     "shell.execute_reply": "2024-11-24T20:48:41.644358Z",
     "shell.execute_reply.started": "2024-11-24T20:47:54.609448Z"
    },
    "trusted": true
   },
   "outputs": [],
   "source": [
    "import os\n",
    "import json\n",
    "import shutil\n",
    "from pathlib import Path\n",
    "\n",
    "import numpy as np\n",
    "import pandas as pd\n",
    "import torch\n",
    "import cv2\n",
    "from ultralytics import YOLO\n",
    "import traceback\n",
    "\n",
    "import os\n",
    "for dirname, _, filenames in os.walk('/kaggle/input'):\n",
    "    for filename in filenames:\n",
    "        pass"
   ]
  },
  {
   "cell_type": "markdown",
   "metadata": {},
   "source": [
    "## создание рабочих директорий"
   ]
  },
  {
   "cell_type": "code",
   "execution_count": null,
   "metadata": {
    "execution": {
     "iopub.execute_input": "2024-11-24T20:48:41.646916Z",
     "iopub.status.busy": "2024-11-24T20:48:41.646516Z",
     "iopub.status.idle": "2024-11-24T20:48:44.700019Z",
     "shell.execute_reply": "2024-11-24T20:48:44.698964Z",
     "shell.execute_reply.started": "2024-11-24T20:48:41.646890Z"
    },
    "trusted": true
   },
   "outputs": [],
   "source": [
    "!mkdir /kaggle/working/datasets\n",
    "!mkdir /kaggle/working/datasets/prepared_data\n",
    "!mkdir /kaggle/working/config"
   ]
  },
  {
   "cell_type": "markdown",
   "metadata": {},
   "source": [
    "## конвертирование исходного датасета в формат подходящий для YOLO"
   ]
  },
  {
   "cell_type": "code",
   "execution_count": null,
   "metadata": {
    "execution": {
     "iopub.execute_input": "2024-11-24T20:48:44.702799Z",
     "iopub.status.busy": "2024-11-24T20:48:44.702497Z",
     "iopub.status.idle": "2024-11-24T21:10:04.791189Z",
     "shell.execute_reply": "2024-11-24T21:10:04.790438Z",
     "shell.execute_reply.started": "2024-11-24T20:48:44.702772Z"
    },
    "trusted": true
   },
   "outputs": [],
   "source": [
    "def convert_to_yolo_format(bbox, img_width, img_height):\n",
    "    \"\"\"Конвертация координат из абсолютных в относительные для YOLO\"\"\"\n",
    "    x_center = (bbox[0] + bbox[2]) / 2 / img_width\n",
    "    y_center = (bbox[1] + bbox[3]) / 2 / img_height\n",
    "    width = (bbox[2] - bbox[0]) / img_width\n",
    "    height = (bbox[3] - bbox[1]) / img_height\n",
    "    return [x_center, y_center, width, height]\n",
    "\n",
    "def prepare_dataset():\n",
    "    \"\"\"Подготовка датасета\"\"\"\n",
    "    raw_data_dir = Path('/kaggle/input/final-dataset/raw_data')\n",
    "    output_dir = Path('/kaggle/working/datasets/prepared_data')\n",
    "    \n",
    "    print(f\"Проверка директорий:\")\n",
    "    print(f\"raw_data_dir: {raw_data_dir}\")\n",
    "    print(f\"output_dir: {output_dir}\")\n",
    "\n",
    "    # проверяем существование директорий\n",
    "    if not (raw_data_dir / \"images\").exists():\n",
    "        raise ValueError(f\"Директория с изображениями не найдена: {raw_data_dir / 'images'}\")\n",
    "    if not (raw_data_dir / \"jsons\").exists():\n",
    "        raise ValueError(f\"Директория с JSON файлами не найдена: {raw_data_dir / 'jsons'}\")\n",
    "\n",
    "    # создаем необходимые директории\n",
    "    images_dir = output_dir / \"images\"\n",
    "    labels_dir = output_dir / \"labels\"\n",
    "    images_dir.mkdir(parents=True, exist_ok=True)\n",
    "    labels_dir.mkdir(parents=True, exist_ok=True)\n",
    "\n",
    "    # словарь для маппинга классов\n",
    "    class_map = {\n",
    "        \"title\": 0, \"paragraph\": 1, \"table\": 2, \"picture\": 3,\n",
    "        \"table_signature\": 4, \"picture_signature\": 5, \"numbered_list\": 6,\n",
    "        \"marked_list\": 7, \"header\": 8, \"footer\": 9, \"footnote\": 10,\n",
    "        \"formula\": 11\n",
    "    }\n",
    "\n",
    "    # собираем пары файлов\n",
    "    valid_pairs = []\n",
    "    image_files = list(Path(raw_data_dir / \"images\").glob(\"*.png\"))\n",
    "    print(f\"\\nНайдено {len(image_files)} PNG файлов\")\n",
    "    \n",
    "    cnt = 0\n",
    "    for img_path in image_files:\n",
    "        json_path = raw_data_dir / \"jsons\" / f\"{img_path.stem}.json\"\n",
    "        \n",
    "        if not json_path.exists():\n",
    "            print(f\"Пропускаем {img_path.name}: нет соответствующего JSON файла\")\n",
    "            continue\n",
    "\n",
    "        try:\n",
    "            # проверяем, что изображение читается\n",
    "            img = cv2.imread(str(img_path))\n",
    "            if img is None:\n",
    "                print(f\"Пропускаем {img_path.name}: невозможно прочитать изображение\")\n",
    "                continue\n",
    "\n",
    "            # копируем изображение\n",
    "            new_img_path = images_dir / img_path.name\n",
    "            shutil.copy(str(img_path), str(new_img_path))\n",
    "\n",
    "            # читаем JSON\n",
    "            with open(json_path, 'r', encoding='utf-8') as f:\n",
    "                data = json.load(f)\n",
    "\n",
    "            # создаем YOLO-формат аннотаций\n",
    "            label_content = []\n",
    "            img_width = data['image_width']\n",
    "            img_height = data['image_height']\n",
    "\n",
    "            for class_name, boxes in data.items():\n",
    "                if class_name in class_map and isinstance(boxes, list) and boxes:\n",
    "                    class_id = class_map[class_name]\n",
    "                    for bbox in boxes:\n",
    "                        yolo_bbox = convert_to_yolo_format(bbox, img_width, img_height)\n",
    "                        label_content.append(f\"{class_id} {' '.join(map(str, yolo_bbox))}\")\n",
    "\n",
    "            # сохраняем файл с аннотациями\n",
    "            label_file = labels_dir / f\"{img_path.stem}.txt\"\n",
    "            with open(label_file, 'w') as f:\n",
    "                f.write('\\n'.join(label_content))\n",
    "\n",
    "            valid_pairs.append(img_path.stem)\n",
    "            cnt += 1\n",
    "            \n",
    "        except Exception as e:\n",
    "            print(f\"Ошибка при обработке {img_path.name}: {str(e)}\")\n",
    "            continue\n",
    "\n",
    "    print(f\"\\nИтоги обработки:\")\n",
    "    print(f\"Всего найдено изображений: {len(image_files)}\")\n",
    "    print(f\"Успешно обработано пар: {len(valid_pairs)}\")\n",
    "\n",
    "    if not valid_pairs:\n",
    "        raise ValueError(\"Не найдено валидных пар изображение-разметка!\")\n",
    "\n",
    "    # создаем train/val split (80/20)\n",
    "    np.random.shuffle(valid_pairs)\n",
    "    split_idx = int(len(valid_pairs) * 0.8)\n",
    "    train_pairs = valid_pairs[:split_idx]\n",
    "    val_pairs = valid_pairs[split_idx:]\n",
    "\n",
    "    # сохраняем списки train/val с полными путями\n",
    "    with open(output_dir / \"train.txt\", 'w') as f:\n",
    "        f.write('\\n'.join(str(images_dir / f\"{name}.png\") for name in train_pairs))\n",
    "    \n",
    "    with open(output_dir / \"val.txt\", 'w') as f:\n",
    "        f.write('\\n'.join(str(images_dir / f\"{name}.png\") for name in val_pairs))\n",
    "\n",
    "    print(f\"\\nСоздание файлов со списками:\")\n",
    "    print(f\"train.txt: {len(train_pairs)} образцов\")\n",
    "    print(f\"val.txt: {len(val_pairs)} образцов\")\n",
    "    \n",
    "    return len(valid_pairs)\n",
    "\n",
    "def main():\n",
    "    # подготовка данных\n",
    "    print(\"Подготовка данных...\")\n",
    "    num_samples = prepare_dataset()\n",
    "    output_dir = Path('/kaggle/working/datasets/prepared_data')\n",
    "\n",
    "    # создаем конфигурационный файл\n",
    "    config_dir = Path('/kaggle/working/config')\n",
    "    config_dir.mkdir(exist_ok=True)\n",
    "    \n",
    "    config_content = f\"\"\"\n",
    "                path: {str(output_dir)}\n",
    "                train: {str(output_dir / 'train.txt')}\n",
    "                val: {str(output_dir / 'val.txt')}\n",
    "                \n",
    "                nc: 12\n",
    "                names: ['title', 'paragraph', 'table', 'picture', 'table_signature', 'picture_signature', \n",
    "                        'numbered_list', 'marked_list', 'header', 'footer', 'footnote', 'formula']\n",
    "                \"\"\"\n",
    "    \n",
    "    config_path = config_dir / \"doclayout.yaml\"\n",
    "    with open(config_path, 'w') as f:\n",
    "        f.write(config_content)\n",
    "\n",
    "if __name__ == \"__main__\":\n",
    "    main()"
   ]
  },
  {
   "cell_type": "markdown",
   "metadata": {},
   "source": [
    "## добавление инструментов визуализации и контроля"
   ]
  },
  {
   "cell_type": "code",
   "execution_count": null,
   "metadata": {
    "execution": {
     "iopub.execute_input": "2024-11-24T21:10:24.378561Z",
     "iopub.status.busy": "2024-11-24T21:10:24.378235Z",
     "iopub.status.idle": "2024-11-24T21:10:52.067738Z",
     "shell.execute_reply": "2024-11-24T21:10:52.066598Z",
     "shell.execute_reply.started": "2024-11-24T21:10:24.378530Z"
    },
    "trusted": true
   },
   "outputs": [],
   "source": [
    "!pip install wandb --q\n",
    "!pip install comet_ml --q"
   ]
  },
  {
   "cell_type": "markdown",
   "metadata": {},
   "source": [
    "## устранение конфликтов"
   ]
  },
  {
   "cell_type": "code",
   "execution_count": null,
   "metadata": {
    "execution": {
     "iopub.execute_input": "2024-11-24T21:10:52.069493Z",
     "iopub.status.busy": "2024-11-24T21:10:52.069137Z",
     "iopub.status.idle": "2024-11-24T21:10:56.833051Z",
     "shell.execute_reply": "2024-11-24T21:10:56.831996Z",
     "shell.execute_reply.started": "2024-11-24T21:10:52.069460Z"
    },
    "trusted": true
   },
   "outputs": [],
   "source": [
    "!pip uninstall ray[tune] -y -q"
   ]
  },
  {
   "cell_type": "code",
   "execution_count": null,
   "metadata": {
    "execution": {
     "iopub.execute_input": "2024-11-24T21:10:56.836207Z",
     "iopub.status.busy": "2024-11-24T21:10:56.835324Z",
     "iopub.status.idle": "2024-11-24T21:10:58.742075Z",
     "shell.execute_reply": "2024-11-24T21:10:58.741387Z",
     "shell.execute_reply.started": "2024-11-24T21:10:56.836164Z"
    },
    "trusted": true
   },
   "outputs": [],
   "source": [
    "import comet_ml\n",
    "import wandb\n",
    "from kaggle_secrets import UserSecretsClient\n",
    "\n",
    "user_secrets = UserSecretsClient()\n",
    "secret_value_0 = user_secrets.get_secret(\"COMET\")\n",
    "secret_value_1 = user_secrets.get_secret(\"WANDB\")"
   ]
  },
  {
   "cell_type": "code",
   "execution_count": null,
   "metadata": {
    "execution": {
     "iopub.execute_input": "2024-11-24T21:10:58.744634Z",
     "iopub.status.busy": "2024-11-24T21:10:58.744333Z",
     "iopub.status.idle": "2024-11-24T21:10:59.799052Z",
     "shell.execute_reply": "2024-11-24T21:10:59.798086Z",
     "shell.execute_reply.started": "2024-11-24T21:10:58.744607Z"
    },
    "trusted": true
   },
   "outputs": [],
   "source": [
    "comet_ml.init(api_key=secret_value_0)\n",
    "wandb.login(key=secret_value_1)"
   ]
  },
  {
   "cell_type": "markdown",
   "metadata": {},
   "source": [
    "## обучение модели"
   ]
  },
  {
   "cell_type": "code",
   "execution_count": null,
   "metadata": {
    "execution": {
     "iopub.execute_input": "2024-11-24T21:11:09.053440Z",
     "iopub.status.busy": "2024-11-24T21:11:09.052871Z",
     "iopub.status.idle": "2024-11-24T21:12:16.934162Z",
     "shell.execute_reply": "2024-11-24T21:12:16.933163Z",
     "shell.execute_reply.started": "2024-11-24T21:11:09.053377Z"
    },
    "trusted": true
   },
   "outputs": [],
   "source": [
    "def main():\n",
    "    # определяем пути\n",
    "    project_root = Path('/kaggle/working')\n",
    "    raw_data_dir = Path('/kaggle/input/final-dataset/raw_data')\n",
    "    output_dir = Path('/kaggle/working/datasets/prepared_data')\n",
    "\n",
    "    # Создаем конфигурационный файл\n",
    "    config_dir = Path('/kaggle/working/config')\n",
    "    config_dir.mkdir(exist_ok=True)\n",
    "    \n",
    "    config_content = f\"\"\"\n",
    "                    path: {str(output_dir)}\n",
    "                    train: {str(output_dir / 'train.txt')}\n",
    "                    val: {str(output_dir / 'val.txt')}\n",
    "                    \n",
    "                    nc: 12\n",
    "                    names: ['title', 'paragraph', 'table', 'picture', 'table_signature', 'picture_signature', \n",
    "                            'numbered_list', 'marked_list', 'header', 'footer', 'footnote', 'formula']\n",
    "                    \"\"\"\n",
    "    \n",
    "    config_path = config_dir / \"doclayout.yaml\"\n",
    "    with open(config_path, 'w') as f:\n",
    "        f.write(config_content)\n",
    "\n",
    "    model = YOLO('yolo11l.pt', verbose=True)\n",
    "    \n",
    "    print(\"Запуск обучения...\")\n",
    "    results = model.train(\n",
    "        data=str(config_path),\n",
    "        epochs=50,\n",
    "        imgsz=640,\n",
    "        batch=8,\n",
    "        workers=2,\n",
    "        project='DocLayout YOLO',\n",
    "        name=\"shok\",\n",
    "        save_period=10,\n",
    "        exist_ok=True,\n",
    "        amp=False,\n",
    "        cache=False,\n",
    "        pretrained=True,\n",
    "        resume=False,\n",
    "        verbose=True,\n",
    "        optimizer=\"AdamW\",\n",
    "        lr0=0.001,\n",
    "        lrf=0.01,\n",
    "        momentum=0.935,\n",
    "        weight_decay=0.005,\n",
    "        warmup_epochs=3.0,\n",
    "        warmup_momentum=0.8,\n",
    "        warmup_bias_lr=0.1,\n",
    "        box=7.5,\n",
    "        cls=0.5,\n",
    "        dfl=1.5,\n",
    "        plots=True,\n",
    "        save=True,\n",
    "        multi_scale=False,\n",
    "        dropout=0.1,\n",
    "        augment=False,\n",
    "        degrees=3.0,\n",
    "        hsv_h=0.1,\n",
    "        hsv_s=0.1, \n",
    "        hsv_v=0.1, \n",
    "        mosaic=0.0,\n",
    "        flipud=0.0, \n",
    "        fliplr=0.0\n",
    "    )\n",
    "\n",
    "    return results\n",
    "\n",
    "if __name__ == \"__main__\":\n",
    "    try:\n",
    "        # очистка CUDA кэша\n",
    "        torch.cuda.empty_cache()\n",
    "        \n",
    "        # установка переменных окружения для оптимизации памяти\n",
    "        os.environ['PYTORCH_CUDA_ALLOC_CONF'] = 'max_split_size_mb:1024'\n",
    "        \n",
    "        results = main()\n",
    "        print(\"Обучение успешно завершено\")\n",
    "    except Exception as e:\n",
    "        print(f\"Произошла ошибка: {e}\")\n",
    "        print(\"Полный стек ошибки:\")\n",
    "        print(traceback.format_exc())"
   ]
  }
 ],
 "metadata": {
  "kaggle": {
   "accelerator": "gpu",
   "dataSources": [
    {
     "datasetId": 6155973,
     "sourceId": 10001156,
     "sourceType": "datasetVersion"
    }
   ],
   "dockerImageVersionId": 30787,
   "isGpuEnabled": true,
   "isInternetEnabled": true,
   "language": "python",
   "sourceType": "notebook"
  },
  "kernelspec": {
   "display_name": "Python 3",
   "language": "python",
   "name": "python3"
  },
  "language_info": {
   "codemirror_mode": {
    "name": "ipython",
    "version": 3
   },
   "file_extension": ".py",
   "mimetype": "text/x-python",
   "name": "python",
   "nbconvert_exporter": "python",
   "pygments_lexer": "ipython3",
   "version": "3.10.14"
  }
 },
 "nbformat": 4,
 "nbformat_minor": 4
}
